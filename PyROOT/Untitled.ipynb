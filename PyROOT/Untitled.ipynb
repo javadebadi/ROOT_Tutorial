{
 "cells": [
  {
   "cell_type": "code",
   "execution_count": 11,
   "metadata": {},
   "outputs": [],
   "source": [
    "import ROOT\n",
    "import array as array\n",
    "from ROOT import TFile\n",
    "from ROOT import TTree\n",
    "from array import array"
   ]
  },
  {
   "cell_type": "code",
   "execution_count": 12,
   "metadata": {},
   "outputs": [],
   "source": [
    "def convert_type(x):\n",
    "    if x=='D':\n",
    "        return 'd'\n",
    "    if x=='F':\n",
    "        return 'f'\n",
    "    if x=='I':\n",
    "        return 'i'\n",
    "    if x=='C':\n",
    "        return 'c'\n",
    "        \n",
    "def cast_type(val,typ):\n",
    "    if typ=='D':\n",
    "        return float(val)\n",
    "    if typ=='F':\n",
    "        return float(val)\n",
    "    if typ=='I':\n",
    "        return int(val)"
   ]
  },
  {
   "cell_type": "code",
   "execution_count": 13,
   "metadata": {},
   "outputs": [],
   "source": [
    "def create_root_from_ASCII(\n",
    "    file_address = \"data.csv\", \n",
    "    delimator = \",\",\n",
    "    header_address = \"header.csv\", \n",
    "    header_in_file=False,\n",
    "    types = \"D,D,I\",\n",
    "    output_file=\"sample.root\",\n",
    "    tree_name=\"FromCSV\"):\n",
    "    \n",
    "    names = []\n",
    "    types = types.split(delimator)\n",
    "    n = len(types)\n",
    "    print(\"# of columns = \"+str(n))\n",
    "\n",
    "    \n",
    "    f = open(file_address)\n",
    "    \n",
    "\n",
    "    if header_in_file == False:\n",
    "        g = open(header_address)\n",
    "        for elem in g:\n",
    "            names = elem.split(delimator)\n",
    "    else:\n",
    "        names = f.readline().split(delimator)\n",
    "\n",
    "    print(names)\n",
    "    if (names[-1] == '\\n'):\n",
    "        names = names[0:len(names)-1]\n",
    "        \n",
    "    assert len(names) == n\n",
    "    \n",
    "\n",
    "    \n",
    "    rf = TFile(output_file,\"recreate\")\n",
    "    t = TTree(tree_name,\"tree\")\n",
    "\n",
    "        \n",
    "    # create variables to link to tree    \n",
    "    array_list=[]\n",
    "    for elem in types: \n",
    "        array_list.append(array(convert_type(elem),[0]))\n",
    "\n",
    "    assert len(array_list) == n\n",
    "    \n",
    "    # create branches in tree\n",
    "    for i in xrange(n):\n",
    "        print(names[i])\n",
    "        t.Branch(names[i], array_list[i],names[i]+\"/\"+types[i]);\n",
    "        \n",
    "    # read number from file and fill tree\n",
    "    for line in f:\n",
    "        my_list = line.split(delimator)\n",
    "        #print(my_list)\n",
    "        for i in xrange(n):\n",
    "            #print(cast_type(my_list[i],types[i]))\n",
    "            array_list[i][0] = cast_type(my_list[i],types[i])\n",
    "            #print(array_list[i][0])\n",
    "        t.Fill()\n",
    "    rf.Write()\n",
    "    rf.Close()\n",
    "    "
   ]
  },
  {
   "cell_type": "code",
   "execution_count": 14,
   "metadata": {},
   "outputs": [
    {
     "name": "stdout",
     "output_type": "stream",
     "text": [
      "# of columns = 3\n",
      "['age', 'weight', 'height', '\\n']\n",
      "age\n",
      "weight\n",
      "height\n"
     ]
    }
   ],
   "source": [
    "create_root_from_ASCII(file_address=\"data_with_header.csv\",delimator=\",\",header_address=\"header.csv\",header_in_file=True)"
   ]
  },
  {
   "cell_type": "code",
   "execution_count": 15,
   "metadata": {},
   "outputs": [
    {
     "name": "stdout",
     "output_type": "stream",
     "text": [
      "# of columns = 13\n",
      "['Alcohol', 'Malic acid', 'Ash', 'Alcalinity of ash', 'Magnesium', 'Total phenols', 'Flavanoids', 'Nonflavanoid phenols', 'Proanthocyanins', 'Color intensity', 'Hue', 'index of diluted wines', 'Proline', '\\n']\n",
      "Alcohol\n",
      "Malic acid\n",
      "Ash\n",
      "Alcalinity of ash\n",
      "Magnesium\n",
      "Total phenols\n",
      "Flavanoids\n",
      "Nonflavanoid phenols\n",
      "Proanthocyanins\n",
      "Color intensity\n",
      "Hue\n",
      "index of diluted wines\n",
      "Proline\n"
     ]
    }
   ],
   "source": [
    "create_root_from_ASCII(file_address=\"wine.data\",\n",
    "                       delimator=\",\",\n",
    "                       header_address=\"header_wine.csv\",\n",
    "                       header_in_file=False,\n",
    "                      types=\"D,D,D,D,D,D,D,D,D,D,D,D,D\",\n",
    "                      output_file=\"wine.root\")"
   ]
  }
 ],
 "metadata": {
  "kernelspec": {
   "display_name": "Python 2",
   "language": "python",
   "name": "python2"
  },
  "language_info": {
   "codemirror_mode": {
    "name": "ipython",
    "version": 2
   },
   "file_extension": ".py",
   "mimetype": "text/x-python",
   "name": "python",
   "nbconvert_exporter": "python",
   "pygments_lexer": "ipython2",
   "version": "2.7.14"
  }
 },
 "nbformat": 4,
 "nbformat_minor": 2
}
