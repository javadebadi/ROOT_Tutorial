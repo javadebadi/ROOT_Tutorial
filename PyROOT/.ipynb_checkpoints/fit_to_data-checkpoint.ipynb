{
 "cells": [
  {
   "cell_type": "markdown",
   "metadata": {},
   "source": [
    "# fit to data"
   ]
  },
  {
   "cell_type": "code",
   "execution_count": 1,
   "metadata": {},
   "outputs": [
    {
     "name": "stdout",
     "output_type": "stream",
     "text": [
      "Welcome to JupyROOT 6.10/08\n"
     ]
    }
   ],
   "source": [
    "import ROOT\n",
    "from ROOT import TF1, TGraph, TCanvas\n",
    "from array import array"
   ]
  },
  {
   "cell_type": "code",
   "execution_count": 2,
   "metadata": {},
   "outputs": [],
   "source": [
    "def fit_now(ym,yp):\n",
    "    x = [-0.1,0,1.00]\n",
    "    y = [ym,0.14,yp]\n",
    "    x = array('d',x)\n",
    "    y = array('d',y)\n",
    "    gr = TGraph(3,x,y)\n",
    "    f = TF1(\"f\", \"[1] * x * x + [0] * x + 0.14\"); \n",
    "    gr.Fit(f);\n",
    "    print(f.Eval(-1))"
   ]
  },
  {
   "cell_type": "code",
   "execution_count": 105,
   "metadata": {},
   "outputs": [
    {
     "name": "stdout",
     "output_type": "stream",
     "text": [
      "1552.93454545\n",
      "\n",
      "****************************************\n",
      "Minimizer is Minuit / Migrad\n",
      "Chi2                      =  1.72534e-19\n",
      "NDf                       =            1\n",
      "Edm                       =  3.45068e-19\n",
      "NCalls                    =           43\n",
      "p0                        =     -1.46727   +/-   3.7763e-09  \n",
      "p1                        =      1551.33   +/-   3.79494e-09 \n"
     ]
    }
   ],
   "source": [
    "#tcg\n",
    "gr = fit_now(15.8,1550)"
   ]
  },
  {
   "cell_type": "code",
   "execution_count": 106,
   "metadata": {},
   "outputs": [
    {
     "name": "stdout",
     "output_type": "stream",
     "text": [
      "0.221818181832\n",
      "\n",
      "****************************************\n",
      "Minimizer is Minuit / Migrad\n",
      "Chi2                      =   5.8342e-25\n",
      "NDf                       =            1\n",
      "Edm                       =   5.8342e-25\n",
      "NCalls                    =           30\n",
      "p0                        =   0.00909091   +/-   6.94416e-12 \n",
      "p1                        =    0.0909091   +/-   6.97845e-12 \n"
     ]
    }
   ],
   "source": [
    "#tc3w\n",
    "gr = fit_now(0.14,0.24)"
   ]
  },
  {
   "cell_type": "code",
   "execution_count": 111,
   "metadata": {},
   "outputs": [
    {
     "name": "stdout",
     "output_type": "stream",
     "text": [
      "7433.84363636\n",
      "\n",
      "****************************************\n",
      "Minimizer is Minuit / Migrad\n",
      "Chi2                      =  1.24437e-16\n",
      "NDf                       =            1\n",
      "Edm                       =  2.48905e-16\n",
      "NCalls                    =           43\n",
      "p0                        =     -16.9218   +/-   1.01415e-07 \n",
      "p1                        =      7416.78   +/-   1.01916e-07 \n"
     ]
    }
   ],
   "source": [
    "#tc3g\n",
    "gr = fit_now(76,7400)"
   ]
  },
  {
   "cell_type": "code",
   "execution_count": 112,
   "metadata": {},
   "outputs": [
    {
     "name": "stdout",
     "output_type": "stream",
     "text": [
      "0.337272727273\n",
      "\n",
      "****************************************\n",
      "Minimizer is Minuit / Migrad\n",
      "Chi2                      =  2.28406e-28\n",
      "NDf                       =            1\n",
      "Edm                       =  4.71968e-28\n",
      "NCalls                    =           35\n",
      "p0                        =     0.466364   +/-   1.37399e-13 \n",
      "p1                        =     0.663636   +/-   1.38077e-13 \n"
     ]
    }
   ],
   "source": [
    "#cww\n",
    "gr = fit_now(0.10,1.27)"
   ]
  },
  {
   "cell_type": "code",
   "execution_count": 113,
   "metadata": {},
   "outputs": [
    {
     "name": "stdout",
     "output_type": "stream",
     "text": [
      "0.222727272723\n",
      "\n",
      "****************************************\n",
      "Minimizer is Minuit / Migrad\n",
      "Chi2                      =  4.52899e-26\n",
      "NDf                       =            1\n",
      "Edm                       =  4.52838e-26\n",
      "NCalls                    =           30\n",
      "p0                        =    0.0536364   +/-   1.93477e-12 \n",
      "p1                        =     0.136364   +/-   1.94432e-12 \n"
     ]
    }
   ],
   "source": [
    "#cb\n",
    "gr = fit_now(0.136,0.33)"
   ]
  },
  {
   "cell_type": "code",
   "execution_count": 114,
   "metadata": {},
   "outputs": [
    {
     "name": "stdout",
     "output_type": "stream",
     "text": [
      "0.820909090909\n",
      "\n",
      "****************************************\n",
      "Minimizer is Minuit / Migrad\n",
      "Chi2                      =  1.73659e-27\n",
      "NDf                       =            1\n",
      "Edm                       =  3.47307e-27\n",
      "NCalls                    =           35\n",
      "p0                        =   -0.0354545   +/-   3.78859e-13 \n",
      "p1                        =     0.645455   +/-   3.8073e-13  \n"
     ]
    }
   ],
   "source": [
    "#chw\n",
    "gr = fit_now(0.15,0.75)"
   ]
  },
  {
   "cell_type": "code",
   "execution_count": 116,
   "metadata": {},
   "outputs": [
    {
     "name": "stdout",
     "output_type": "stream",
     "text": [
      "0.288181818182\n",
      "\n",
      "****************************************\n",
      "Minimizer is Minuit / Migrad\n",
      "Chi2                      =  3.23225e-28\n",
      "NDf                       =            1\n",
      "Edm                       =  6.47452e-28\n",
      "NCalls                    =           35\n",
      "p0                        =   -0.0390909   +/-   1.63449e-13 \n",
      "p1                        =     0.109091   +/-   1.64256e-13 \n"
     ]
    }
   ],
   "source": [
    "#chb\n",
    "gr = fit_now(0.145,0.21)"
   ]
  },
  {
   "cell_type": "code",
   "execution_count": 135,
   "metadata": {},
   "outputs": [
    {
     "name": "stdout",
     "output_type": "stream",
     "text": [
      "0.246363636385\n",
      "\n",
      "****************************************\n",
      "Minimizer is Minuit / Migrad\n",
      "Chi2                      =  1.40005e-24\n",
      "NDf                       =            1\n",
      "Edm                       =  1.39949e-24\n",
      "NCalls                    =           30\n",
      "p0                        =    0.0118182   +/-   1.07572e-11 \n",
      "p1                        =     0.118182   +/-   1.08104e-11 \n"
     ]
    }
   ],
   "source": [
    "#ca\n",
    "gr = fit_now(0.14,0.27)"
   ]
  },
  {
   "cell_type": "code",
   "execution_count": 138,
   "metadata": {},
   "outputs": [
    {
     "name": "stdout",
     "output_type": "stream",
     "text": [
      "1572.93454545\n",
      "\n",
      "****************************************\n",
      "Minimizer is Minuit / Migrad\n",
      "Chi2                      =  2.71752e-21\n",
      "NDf                       =            1\n",
      "Edm                       =  5.43503e-21\n",
      "NCalls                    =           43\n",
      "p0                        =     -1.46727   +/-   4.73931e-10 \n",
      "p1                        =      1571.33   +/-   4.76271e-10 \n"
     ]
    }
   ],
   "source": [
    "#cg\n",
    "gr = fit_now(16,1570)"
   ]
  },
  {
   "cell_type": "code",
   "execution_count": 144,
   "metadata": {},
   "outputs": [
    {
     "name": "stdout",
     "output_type": "stream",
     "text": [
      "1.25454545455\n",
      "\n",
      "****************************************\n",
      "Minimizer is Minuit / Migrad\n",
      "Chi2                      =   9.1417e-28\n",
      "NDf                       =            1\n",
      "Edm                       =  1.81898e-27\n",
      "NCalls                    =           35\n",
      "p0                        =    -0.287273   +/-   2.7488e-13  \n",
      "p1                        =     0.827273   +/-   2.76237e-13 \n"
     ]
    }
   ],
   "source": [
    "#chq\n",
    "gr = fit_now(0.177,0.68)"
   ]
  },
  {
   "cell_type": "code",
   "execution_count": 6,
   "metadata": {},
   "outputs": [
    {
     "name": "stdout",
     "output_type": "stream",
     "text": [
      "1.81090909091\n",
      "\n",
      "****************************************\n",
      "Minimizer is Minuit / Migrad\n",
      "Chi2                      =   1.5217e-26\n",
      "NDf                       =            1\n",
      "Edm                       =  3.04337e-26\n",
      "NCalls                    =           35\n",
      "p0                        =    -0.225455   +/-   1.12149e-12 \n",
      "p1                        =      1.44545   +/-   1.12702e-12 \n"
     ]
    }
   ],
   "source": [
    "#cphq\n",
    "gr = fit_now(0.177,1.36)"
   ]
  },
  {
   "cell_type": "code",
   "execution_count": 146,
   "metadata": {},
   "outputs": [
    {
     "name": "stdout",
     "output_type": "stream",
     "text": [
      "0.581818181818\n",
      "\n",
      "****************************************\n",
      "Minimizer is Minuit / Migrad\n",
      "Chi2                      =  2.77707e-28\n",
      "NDf                       =            1\n",
      "Edm                       =  5.54346e-28\n",
      "NCalls                    =           35\n",
      "p0                        =     0.149091   +/-   1.51503e-13 \n",
      "p1                        =     0.590909   +/-   1.52251e-13 \n"
     ]
    }
   ],
   "source": [
    "#chu\n",
    "gr = fit_now(0.131,0.88)"
   ]
  },
  {
   "cell_type": "code",
   "execution_count": 147,
   "metadata": {},
   "outputs": [
    {
     "name": "stdout",
     "output_type": "stream",
     "text": [
      "0.455454545455\n",
      "\n",
      "****************************************\n",
      "Minimizer is Minuit / Migrad\n",
      "Chi2                      =  6.85053e-29\n",
      "NDf                       =            1\n",
      "Edm                       =   1.3753e-28\n",
      "NCalls                    =           35\n",
      "p0                        =   -0.0427273   +/-   7.52473e-14 \n",
      "p1                        =     0.272727   +/-   7.56189e-14 \n"
     ]
    }
   ],
   "source": [
    "#chd\n",
    "gr = fit_now(0.147,0.37)"
   ]
  },
  {
   "cell_type": "code",
   "execution_count": 149,
   "metadata": {},
   "outputs": [
    {
     "name": "stdout",
     "output_type": "stream",
     "text": [
      "0.140196611764\n",
      "\n",
      "****************************************\n",
      "Minimizer is Minuit / Migrad\n",
      "Chi2                      =  3.19472e-06\n",
      "NDf                       =            1\n",
      "Edm                       =  6.38944e-06\n",
      "NCalls                    =           25\n",
      "p0                        =    0.0198618   +/-   0.0162497   \n",
      "p1                        =    0.0200584   +/-   0.0163299   \n"
     ]
    }
   ],
   "source": [
    "#chud\n",
    "gr = fit_now(0.14,0.18)"
   ]
  },
  {
   "cell_type": "code",
   "execution_count": 151,
   "metadata": {},
   "outputs": [
    {
     "name": "stdout",
     "output_type": "stream",
     "text": [
      "0.607272727273\n",
      "\n",
      "****************************************\n",
      "Minimizer is Minuit / Migrad\n",
      "Chi2                      =  1.90266e-29\n",
      "NDf                       =            1\n",
      "Edm                       =  3.80521e-29\n",
      "NCalls                    =           35\n",
      "p0                        =    -0.303636   +/-   3.96561e-14 \n",
      "p1                        =     0.163636   +/-   3.98519e-14 \n"
     ]
    }
   ],
   "source": [
    "#chl\n",
    "gr = fit_now(0.172,0.00)"
   ]
  },
  {
   "cell_type": "code",
   "execution_count": 152,
   "metadata": {},
   "outputs": [
    {
     "name": "stdout",
     "output_type": "stream",
     "text": [
      "0.140971037816\n",
      "\n",
      "****************************************\n",
      "Minimizer is Minuit / Migrad\n",
      "Chi2                      =  1.32766e-06\n",
      "NDf                       =            1\n",
      "Edm                       =  2.65532e-06\n",
      "NCalls                    =           25\n",
      "p0                        =      0.20954   +/-   0.0104754   \n",
      "p1                        =     0.210511   +/-   0.0105272   \n"
     ]
    }
   ],
   "source": [
    "#cphl\n",
    "gr = fit_now(0.12,0.56)"
   ]
  },
  {
   "cell_type": "code",
   "execution_count": 153,
   "metadata": {},
   "outputs": [
    {
     "name": "stdout",
     "output_type": "stream",
     "text": [
      "9.69818181818\n",
      "\n",
      "****************************************\n",
      "Minimizer is Minuit / Migrad\n",
      "Chi2                      =  1.21916e-24\n",
      "NDf                       =            1\n",
      "Edm                       =  2.44035e-24\n",
      "NCalls                    =           35\n",
      "p0                        =   -0.0490909   +/-   1.00383e-11 \n",
      "p1                        =      9.50909   +/-   1.00878e-11 \n"
     ]
    }
   ],
   "source": [
    "#cub\n",
    "gr = fit_now(0.24,9.6)"
   ]
  },
  {
   "cell_type": "code",
   "execution_count": 154,
   "metadata": {},
   "outputs": [
    {
     "name": "stdout",
     "output_type": "stream",
     "text": [
      "107.207272727\n",
      "\n",
      "****************************************\n",
      "Minimizer is Minuit / Migrad\n",
      "Chi2                      =  1.68341e-20\n",
      "NDf                       =            1\n",
      "Edm                       =  3.36683e-20\n",
      "NCalls                    =           39\n",
      "p0                        =    -0.103636   +/-   1.17957e-09 \n",
      "p1                        =      106.964   +/-   1.1854e-09  \n"
     ]
    }
   ],
   "source": [
    "#cuw\n",
    "gr = fit_now(1.22,107)"
   ]
  },
  {
   "cell_type": "code",
   "execution_count": 155,
   "metadata": {},
   "outputs": [
    {
     "name": "stdout",
     "output_type": "stream",
     "text": [
      "4097.48\n",
      "\n",
      "****************************************\n",
      "Minimizer is Minuit / Migrad\n",
      "Chi2                      =  3.54517e-19\n",
      "NDf                       =            1\n",
      "Edm                       =   7.0961e-19\n",
      "NCalls                    =           43\n",
      "p0                        =         1.26   +/-   5.41312e-09 \n",
      "p1                        =       4098.6   +/-   5.43985e-09 \n"
     ]
    }
   ],
   "source": [
    "#cug\n",
    "gr = fit_now(41,4100)"
   ]
  },
  {
   "cell_type": "code",
   "execution_count": 156,
   "metadata": {},
   "outputs": [
    {
     "name": "stdout",
     "output_type": "stream",
     "text": [
      "0.312727272727\n",
      "\n",
      "****************************************\n",
      "Minimizer is Minuit / Migrad\n",
      "Chi2                      =  3.98475e-29\n",
      "NDf                       =            1\n",
      "Edm                       =   7.9717e-29\n",
      "NCalls                    =           35\n",
      "p0                        =   -0.0363636   +/-   5.73891e-14 \n",
      "p1                        =     0.136364   +/-   5.76725e-14 \n"
     ]
    }
   ],
   "source": [
    "#c3w\n",
    "gr = fit_now(0.145,0.24)"
   ]
  },
  {
   "cell_type": "code",
   "execution_count": 157,
   "metadata": {},
   "outputs": [
    {
     "name": "stdout",
     "output_type": "stream",
     "text": [
      "7270.20727273\n",
      "\n",
      "****************************************\n",
      "Minimizer is Minuit / Migrad\n",
      "Chi2                      =    2.498e-19\n",
      "NDf                       =            1\n",
      "Edm                       =    4.996e-19\n",
      "NCalls                    =           43\n",
      "p0                        =     -35.1036   +/-   4.54386e-09 \n",
      "p1                        =      7234.96   +/-   4.5663e-09  \n"
     ]
    }
   ],
   "source": [
    "#c3g\n",
    "gr = fit_now(76,7200)"
   ]
  },
  {
   "cell_type": "code",
   "execution_count": 5,
   "metadata": {},
   "outputs": [
    {
     "name": "stdout",
     "output_type": "stream",
     "text": [
      "2079.29818182\n",
      "\n",
      "****************************************\n",
      "Minimizer is Minuit / Migrad\n",
      "Chi2                      =  7.22513e-18\n",
      "NDf                       =            1\n",
      "Edm                       =  1.44491e-17\n",
      "NCalls                    =           43\n",
      "p0                        =      10.3509   +/-   2.44372e-08 \n",
      "p1                        =      2089.51   +/-   2.45579e-08 \n"
     ]
    }
   ],
   "source": [
    "#c2g\n",
    "gr = fit_now(20,2100)"
   ]
  },
  {
   "cell_type": "code",
   "execution_count": 3,
   "metadata": {},
   "outputs": [
    {
     "name": "stdout",
     "output_type": "stream",
     "text": [
      "2761.11636364\n",
      "\n",
      "****************************************\n",
      "Minimizer is Minuit / Migrad\n",
      "Chi2                      =  2.53012e-19\n",
      "NDf                       =            1\n",
      "Edm                       =  5.06025e-19\n",
      "NCalls                    =           43\n",
      "p0                        =      19.4418   +/-   4.57299e-09 \n",
      "p1                        =      2780.42   +/-   4.59556e-09 \n"
     ]
    }
   ],
   "source": [
    "#c2w\n",
    "gr = fit_now(26,2800)"
   ]
  },
  {
   "cell_type": "code",
   "execution_count": null,
   "metadata": {},
   "outputs": [],
   "source": []
  }
 ],
 "metadata": {
  "kernelspec": {
   "display_name": "Python 2",
   "language": "python",
   "name": "python2"
  },
  "language_info": {
   "codemirror_mode": {
    "name": "ipython",
    "version": 2
   },
   "file_extension": ".py",
   "mimetype": "text/x-python",
   "name": "python",
   "nbconvert_exporter": "python",
   "pygments_lexer": "ipython2",
   "version": "2.7.14"
  }
 },
 "nbformat": 4,
 "nbformat_minor": 2
}
