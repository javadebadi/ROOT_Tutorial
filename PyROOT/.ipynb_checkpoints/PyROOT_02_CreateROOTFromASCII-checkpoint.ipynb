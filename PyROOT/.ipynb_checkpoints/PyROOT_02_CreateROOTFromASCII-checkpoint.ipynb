{
 "cells": [
  {
   "cell_type": "code",
   "execution_count": 63,
   "metadata": {},
   "outputs": [],
   "source": [
    "import ROOT\n",
    "from array import array\n",
    "f = open(\"data.csv\",'r')"
   ]
  },
  {
   "cell_type": "code",
   "execution_count": 66,
   "metadata": {},
   "outputs": [],
   "source": [
    "a = []\n",
    "b = []\n",
    "c = []\n",
    "\n",
    "for l in f:\n",
    "    my_list = l.split(',')\n",
    "    a.append(float(my_list[0]))\n",
    "    b.append(float(my_list[1]))\n",
    "    c.append(int(my_list[2]))"
   ]
  },
  {
   "cell_type": "code",
   "execution_count": 39,
   "metadata": {},
   "outputs": [],
   "source": [
    "rf = ROOT.TFile(\"sample.root\",\"recreate\")\n",
    "t = ROOT.TTree(\"FromCSV\",\"tree\")"
   ]
  },
  {
   "cell_type": "code",
   "execution_count": 40,
   "metadata": {},
   "outputs": [],
   "source": [
    "rf.cd()\n",
    "\n",
    "px = array('f',[0])\n",
    "py = array('f',[0])\n",
    "pid = array('i',[0])\n",
    "\n",
    "t.Branch(\"momentum_x\",px,\"momentum_x/F\")\n",
    "t.Branch(\"momentum_y\",py,\"momentum_y/F\")\n",
    "t.Branch(\"PID\",pid,\"PID/I\")\n",
    "\n",
    "for elem in xrange(0,len(a)):\n",
    "    px[0] = a[elem]\n",
    "    py[0] = b[elem]\n",
    "    pid[0] = c[elem]\n",
    "    t.Fill()\n",
    "\n",
    "rf.Write()\n",
    "rf.Close()\n",
    "    \n"
   ]
  },
  {
   "cell_type": "code",
   "execution_count": 141,
   "metadata": {},
   "outputs": [],
   "source": [
    "def create_root_from_ASCII(\n",
    "    file_address = \"data.csv\", \n",
    "    delimator = \",\",\n",
    "    header_address = \"header.csv\", \n",
    "    header_in_file=False,\n",
    "    types = \"D,D,I\",\n",
    "    output_file=\"sample.root\",\n",
    "    tree_name=\"FromCSV\"):\n",
    "    \n",
    "    names = []\n",
    "    types = types.split(delimator)\n",
    "    n = len(types)\n",
    "    print(\"# of columns = \"+str(n))\n",
    "\n",
    "    \n",
    "    f = open(file_address)\n",
    "    \n",
    "\n",
    "    if header_in_file == False:\n",
    "        g = open(header_address)\n",
    "        for elem in g:\n",
    "            names = elem.split(delimator)\n",
    "    else:\n",
    "        names = f.readline().split(delimator)\n",
    "\n",
    "    print(names)\n",
    "    if (names[-1] == '\\n'):\n",
    "        names = names[0:len(names)-1]\n",
    "        \n",
    "    assert len(names) == n\n",
    "    \n",
    "    import ROOT\n",
    "    import array as array\n",
    "    from ROOT import TFile\n",
    "    from ROOT import TTree\n",
    "    from array import array\n",
    "    \n",
    "    rf = TFile(output_file,\"recreate\")\n",
    "    t = TTree(tree_name,\"tree\")\n",
    "\n",
    "    def convert_type(x):\n",
    "        if x=='D':\n",
    "            return 'd'\n",
    "        if x=='F':\n",
    "            return 'f'\n",
    "        if x=='I':\n",
    "            return 'i'\n",
    "        if x=='C':\n",
    "            return 'c'\n",
    "    def cast_type(val,typ):\n",
    "        if typ=='D':\n",
    "            return float(val)\n",
    "        if typ=='F':\n",
    "            return float(val)\n",
    "        if typ=='I':\n",
    "            return int(val)\n",
    "        \n",
    "    array_list=[]\n",
    "    for elem in types: \n",
    "        array_list.append(array(convert_type(elem),[0]))\n",
    "\n",
    "    assert len(array_list) == n\n",
    "        \n",
    "    for i in xrange(n):\n",
    "        print(names[i])\n",
    "        print(names[i]+\"/\"+types[i])\n",
    "        print(array_list[i][0])\n",
    "        t.Branch(names[i], array_list[i],names[i]+\"/\"+types[i]);\n",
    "        \n",
    "    # read number from file and fill tree\n",
    "    for line in f:\n",
    "        my_list = line.split(delimator)\n",
    "        #print(my_list)\n",
    "        for i in xrange(n):\n",
    "            #print(cast_type(my_list[i],types[i]))\n",
    "            array_list[i][0] = cast_type(my_list[i],types[i])\n",
    "            #print(array_list[i][0])\n",
    "        t.Fill()\n",
    "    rf.Write()\n",
    "    rf.Close()\n",
    "    \n"
   ]
  },
  {
   "cell_type": "code",
   "execution_count": 142,
   "metadata": {},
   "outputs": [
    {
     "name": "stdout",
     "output_type": "stream",
     "text": [
      "# of columns = 3\n",
      "['age', 'weight', 'height', '\\n']\n",
      "age\n",
      "age/D\n",
      "0.0\n",
      "weight\n",
      "weight/D\n",
      "0.0\n",
      "height\n",
      "height/I\n",
      "0\n"
     ]
    }
   ],
   "source": [
    "create_root_from_ASCII(file_address=\"data_with_header.csv\",delimator=\",\",header_address=\"header.csv\",header_in_file=True)"
   ]
  },
  {
   "cell_type": "code",
   "execution_count": 113,
   "metadata": {},
   "outputs": [],
   "source": [
    "dic = {\"k1\":a}"
   ]
  },
  {
   "cell_type": "code",
   "execution_count": 115,
   "metadata": {},
   "outputs": [
    {
     "data": {
      "text/plain": [
       "'k1'"
      ]
     },
     "execution_count": 115,
     "metadata": {},
     "output_type": "execute_result"
    }
   ],
   "source": [
    "dic"
   ]
  },
  {
   "cell_type": "code",
   "execution_count": 8,
   "metadata": {},
   "outputs": [],
   "source": [
    "from array import array"
   ]
  },
  {
   "cell_type": "code",
   "execution_count": 10,
   "metadata": {},
   "outputs": [
    {
     "ename": "TypeError",
     "evalue": "'type' object has no attribute '__getitem__'",
     "output_type": "error",
     "traceback": [
      "\u001b[0;31m\u001b[0m",
      "\u001b[0;31mTypeError\u001b[0mTraceback (most recent call last)",
      "\u001b[0;32m<ipython-input-10-dcffd27d4c92>\u001b[0m in \u001b[0;36m<module>\u001b[0;34m()\u001b[0m\n\u001b[0;32m----> 1\u001b[0;31m \u001b[0mdic\u001b[0m \u001b[0;34m=\u001b[0m \u001b[0;34m{\u001b[0m\u001b[0;34m\"k1\"\u001b[0m\u001b[0;34m:\u001b[0m \u001b[0marray\u001b[0m\u001b[0;34m[\u001b[0m\u001b[0;34m'f'\u001b[0m\u001b[0;34m,\u001b[0m\u001b[0;34m[\u001b[0m\u001b[0;36m0\u001b[0m\u001b[0;34m]\u001b[0m\u001b[0;34m]\u001b[0m\u001b[0;34m}\u001b[0m\u001b[0;34m\u001b[0m\u001b[0m\n\u001b[0m",
      "\u001b[0;31mTypeError\u001b[0m: 'type' object has no attribute '__getitem__'"
     ]
    }
   ],
   "source": [
    "dic = {\"k1\": array['f',[0]]}"
   ]
  },
  {
   "cell_type": "code",
   "execution_count": 6,
   "metadata": {},
   "outputs": [
    {
     "data": {
      "text/plain": [
       "[1, 2, 3]"
      ]
     },
     "execution_count": 6,
     "metadata": {},
     "output_type": "execute_result"
    }
   ],
   "source": [
    "dic['k1']"
   ]
  },
  {
   "cell_type": "code",
   "execution_count": 66,
   "metadata": {},
   "outputs": [],
   "source": [
    "array_list=[]\n",
    "types = [\"d\",\"i\"]\n",
    "for elem in types:\n",
    "    array_list.append(array(elem,[0]))"
   ]
  },
  {
   "cell_type": "code",
   "execution_count": 63,
   "metadata": {},
   "outputs": [],
   "source": [
    "array_list[0]=1"
   ]
  },
  {
   "cell_type": "code",
   "execution_count": 67,
   "metadata": {},
   "outputs": [
    {
     "data": {
      "text/plain": [
       "0.0"
      ]
     },
     "execution_count": 67,
     "metadata": {},
     "output_type": "execute_result"
    }
   ],
   "source": [
    "array_list[0][0]"
   ]
  },
  {
   "cell_type": "code",
   "execution_count": 94,
   "metadata": {},
   "outputs": [],
   "source": [
    "f = open(\"data_with_header.csv\")"
   ]
  },
  {
   "cell_type": "code",
   "execution_count": 96,
   "metadata": {},
   "outputs": [
    {
     "data": {
      "text/plain": [
       "'2.5,6.3,96\\n'"
      ]
     },
     "execution_count": 96,
     "metadata": {},
     "output_type": "execute_result"
    }
   ],
   "source": [
    "f.readline()"
   ]
  },
  {
   "cell_type": "code",
   "execution_count": null,
   "metadata": {},
   "outputs": [],
   "source": []
  },
  {
   "cell_type": "code",
   "execution_count": null,
   "metadata": {},
   "outputs": [],
   "source": []
  }
 ],
 "metadata": {
  "kernelspec": {
   "display_name": "Python 2",
   "language": "python",
   "name": "python2"
  },
  "language_info": {
   "codemirror_mode": {
    "name": "ipython",
    "version": 2
   },
   "file_extension": ".py",
   "mimetype": "text/x-python",
   "name": "python",
   "nbconvert_exporter": "python",
   "pygments_lexer": "ipython2",
   "version": "2.7.14"
  }
 },
 "nbformat": 4,
 "nbformat_minor": 2
}
