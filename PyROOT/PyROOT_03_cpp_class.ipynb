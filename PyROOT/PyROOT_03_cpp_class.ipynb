{
 "cells": [
  {
   "cell_type": "markdown",
   "metadata": {},
   "source": [
    "# Using C struct and C++ classes in Python"
   ]
  },
  {
   "cell_type": "code",
   "execution_count": 1,
   "metadata": {},
   "outputs": [
    {
     "name": "stdout",
     "output_type": "stream",
     "text": [
      "Welcome to JupyROOT 6.10/08\n"
     ]
    }
   ],
   "source": [
    "import ROOT\n",
    "from ROOT import gROOT, gSystem\n",
    "from ROOT import TFile, TTree, TChain\n",
    "from ROOT import TCanvas, TH1D, TH1F, TH1I, TF1, TGraph\n",
    "from array import array"
   ]
  },
  {
   "cell_type": "markdown",
   "metadata": {},
   "source": [
    "## C Struct"
   ]
  },
  {
   "cell_type": "code",
   "execution_count": 2,
   "metadata": {},
   "outputs": [
    {
     "data": {
      "text/plain": [
       "0L"
      ]
     },
     "execution_count": 2,
     "metadata": {},
     "output_type": "execute_result"
    }
   ],
   "source": [
    "c_struct = \"struct mystruct { Int_t a; Double_t b; string c; };\"\n",
    "gROOT.ProcessLine(c_struct)"
   ]
  },
  {
   "cell_type": "code",
   "execution_count": 5,
   "metadata": {},
   "outputs": [
    {
     "name": "stdout",
     "output_type": "stream",
     "text": [
      "-1 2.659 Javad\n"
     ]
    }
   ],
   "source": [
    "from ROOT import mystruct\n",
    "s = mystruct()\n",
    "s.a = -1\n",
    "s.b = 2.659\n",
    "s.c = \"Javad\"\n",
    "print s.a, s.b, s.c"
   ]
  },
  {
   "cell_type": "markdown",
   "metadata": {},
   "source": [
    "## C++ Class"
   ]
  },
  {
   "cell_type": "markdown",
   "metadata": {},
   "source": [
    "We have an external C++ class with the name \"PyROOT_03_cpp_class.C\". Let's look at this class in Jupyter:"
   ]
  },
  {
   "cell_type": "code",
   "execution_count": 6,
   "metadata": {},
   "outputs": [
    {
     "name": "stdout",
     "output_type": "stream",
     "text": [
      "#include <cstring>\n",
      "class PyROOT_03_cpp_class{\n",
      "\tpublic:\n",
      "\tDouble_t a;\n",
      "\tDouble_t b;\n",
      "\tstring title=\"cpp_class\";\n",
      "\tPyROOT_03_cpp_class(Double_t x, Double_t y){\n",
      "\t\tthis->a = x;\n",
      "\t\tthis->b = y;\n",
      "\t}\n",
      "\tDouble_t add(){return a+b;};\n",
      "\tstring get_title(){\n",
      "\t\treturn title;\n",
      "\t}\n",
      "\n",
      "\n",
      "};\n",
      "\n"
     ]
    }
   ],
   "source": [
    "f = open(\"PyROOT_03_cpp_class.C\")\n",
    "text = f.read()\n",
    "f.close()\n",
    "print(text)"
   ]
  },
  {
   "cell_type": "markdown",
   "metadata": {},
   "source": [
    "To be able to use this class in Jupyter we do as below"
   ]
  },
  {
   "cell_type": "code",
   "execution_count": 7,
   "metadata": {},
   "outputs": [],
   "source": [
    "gROOT.Reset()\n",
    "import subprocess\n",
    "bashCommand = \"echo .L PyROOT_03_cpp_class.C+ | root -b\"\n",
    "output = subprocess.check_output(['bash','-c', bashCommand])"
   ]
  },
  {
   "cell_type": "code",
   "execution_count": 8,
   "metadata": {},
   "outputs": [
    {
     "name": "stdout",
     "output_type": "stream",
     "text": [
      "3.0\n"
     ]
    },
    {
     "data": {
      "text/plain": [
       "'cpp_class'"
      ]
     },
     "execution_count": 8,
     "metadata": {},
     "output_type": "execute_result"
    }
   ],
   "source": [
    "from ROOT import gSystem\n",
    "gSystem.Load(\"PyROOT_03_cpp_class_C\")\n",
    "from ROOT import PyROOT_03_cpp_class\n",
    "x = PyROOT_03_cpp_class(1,2)\n",
    "print x.add()\n",
    "x.get_title()"
   ]
  },
  {
   "cell_type": "markdown",
   "metadata": {},
   "source": [
    "### A function for root C++ classes"
   ]
  },
  {
   "cell_type": "markdown",
   "metadata": {},
   "source": [
    "Now we define a fucntion to make some steps of the above process automatic. We assume that you are in a directory in which you have a class which is in the file like \"something.C\". The input is \"something.C\". After excuting the function you can run the command \n",
    "from ROOT import something\n",
    "and then use something class in your python code"
   ]
  },
  {
   "cell_type": "code",
   "execution_count": 11,
   "metadata": {},
   "outputs": [],
   "source": [
    "# a function to help use root or c++ classes in the python\n",
    "def import_cpp_class_to_python(name_of_the_class_file=\"PyROOT_03_cpp_class.C\"):\n",
    "    import subprocess\n",
    "    bashCommand = \"echo .L \"+name_of_the_class_file+\"+ | root -b\"\n",
    "    output = subprocess.check_output(['bash','-c', bashCommand])\n",
    "    from ROOT import gSystem\n",
    "    loadable_name = name_of_the_class_file.split(\".\")[0]\n",
    "    gSystem.Load(loadable_name+str(\"_C\"))"
   ]
  },
  {
   "cell_type": "code",
   "execution_count": 12,
   "metadata": {},
   "outputs": [
    {
     "name": "stdout",
     "output_type": "stream",
     "text": [
      "3.0\n",
      "cpp_class\n"
     ]
    }
   ],
   "source": [
    "import_cpp_class_to_python(\"PyROOT_03_cpp_class.C\")\n",
    "from ROOT import PyROOT_03_cpp_class\n",
    "x = PyROOT_03_cpp_class(1,2)\n",
    "print(x.add())\n",
    "print(x.get_title())"
   ]
  },
  {
   "cell_type": "markdown",
   "metadata": {},
   "source": [
    "## Import C++ class and extend the class"
   ]
  },
  {
   "cell_type": "code",
   "execution_count": 13,
   "metadata": {},
   "outputs": [
    {
     "name": "stdout",
     "output_type": "stream",
     "text": [
      "3.0\n",
      "cpp_class\n"
     ]
    }
   ],
   "source": [
    "import_cpp_class_to_python(\"PyROOT_03_cpp_class.C\")\n",
    "from ROOT import PyROOT_03_cpp_class\n",
    "x = PyROOT_03_cpp_class(1,2)\n",
    "print(x.add())\n",
    "print(x.get_title())"
   ]
  },
  {
   "cell_type": "code",
   "execution_count": 14,
   "metadata": {},
   "outputs": [],
   "source": [
    "def set_title(self,new_title):\n",
    "    self.title = new_title\n",
    "PyROOT_03_cpp_class.set_title = set_title"
   ]
  },
  {
   "cell_type": "code",
   "execution_count": 21,
   "metadata": {},
   "outputs": [
    {
     "name": "stdout",
     "output_type": "stream",
     "text": [
      "extended cpp class\n"
     ]
    }
   ],
   "source": [
    "x.set_title(\"extended cpp class\")\n",
    "print(x.get_title())"
   ]
  },
  {
   "cell_type": "markdown",
   "metadata": {},
   "source": [
    "## Extend a ROOT class"
   ]
  },
  {
   "cell_type": "code",
   "execution_count": 77,
   "metadata": {},
   "outputs": [],
   "source": [
    "from ROOT import TLorentzVector\n",
    "pid = 11\n",
    "TLorentzVector.pid = pid\n",
    "isolation_var = 0.05\n",
    "TLorentzVector.isolation_var = isolation_var\n",
    "def is_isolated(self):\n",
    "    if(self.isolation_var > 0.15):\n",
    "        return False\n",
    "    else:\n",
    "        return True\n",
    "TLorentzVector.is_isolated = is_isolated"
   ]
  },
  {
   "cell_type": "markdown",
   "metadata": {},
   "source": [
    "Now we use this inherited class"
   ]
  },
  {
   "cell_type": "code",
   "execution_count": 78,
   "metadata": {},
   "outputs": [
    {
     "data": {
      "text/plain": [
       "False"
      ]
     },
     "execution_count": 78,
     "metadata": {},
     "output_type": "execute_result"
    }
   ],
   "source": [
    "e = TLorentzVector()\n",
    "e.isolation_var = 0.2\n",
    "e.is_isolated()"
   ]
  }
 ],
 "metadata": {
  "kernelspec": {
   "display_name": "Python 2",
   "language": "python",
   "name": "python2"
  },
  "language_info": {
   "codemirror_mode": {
    "name": "ipython",
    "version": 2
   },
   "file_extension": ".py",
   "mimetype": "text/x-python",
   "name": "python",
   "nbconvert_exporter": "python",
   "pygments_lexer": "ipython2",
   "version": "2.7.14"
  }
 },
 "nbformat": 4,
 "nbformat_minor": 2
}
